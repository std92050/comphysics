{
 "cells": [
  {
   "cell_type": "code",
   "execution_count": 32,
   "metadata": {},
   "outputs": [],
   "source": [
    "import numpy as np\n",
    "import matplotlib.pyplot as plt"
   ]
  },
  {
   "cell_type": "markdown",
   "metadata": {},
   "source": [
    "# 1D Ising model + Transfer matrix\n",
    "\n",
    "* Construct the transfer matrix at temperature $T$ with external field $B$\n",
    "* Find the eivenvalues of the transfer matrix and compare to the exact results.\n",
    "* Evaluate the partition function $Z$ at different system size $N$ and $T$, $B$. Compare to the exact results.\n",
    "* For a fixed $N$, $T$, $B$, evaluate $\\langle S_0 S_j\\rangle$ where $j=0,1,\\cdots N$. \n",
    "* Plot $\\langle S_0 S_j\\rangle$ up to $j=N/2$ and show that it decays exponentially.\n",
    "  * Please try several $N$, $T$, $B$. What is the largest $N$ you can go? What is the lowest $T$ you can go?"
   ]
  },
  {
   "cell_type": "code",
   "execution_count": 33,
   "metadata": {},
   "outputs": [],
   "source": [
    "#1\n",
    "J=1\n",
    "def Tran_matrix(T:\"溫度\",h:\"外場\"):\n",
    "    A=np.array([[np.exp((J+h)/T),np.exp(-J/T)],\n",
    "               [np.exp((-J)/T),np.exp((J-h)/T)]])\n",
    "    return A\n"
   ]
  },
  {
   "cell_type": "code",
   "execution_count": 160,
   "metadata": {},
   "outputs": [
    {
     "name": "stderr",
     "output_type": "stream",
     "text": [
      "C:\\Users\\1234\\Anaconda3\\lib\\site-packages\\ipykernel_launcher.py:2: RuntimeWarning: divide by zero encountered in double_scalars\n",
      "  \n"
     ]
    },
    {
     "data": {
      "text/plain": [
       "array([[1., 1.],\n",
       "       [1., 1.]])"
      ]
     },
     "execution_count": 160,
     "metadata": {},
     "output_type": "execute_result"
    }
   ],
   "source": [
    "#2\n",
    "trans=Tran_matrix(1/np.log(1),0)\n",
    "trans"
   ]
  },
  {
   "cell_type": "code",
   "execution_count": 161,
   "metadata": {},
   "outputs": [
    {
     "data": {
      "text/plain": [
       "(array([2., 0.]), array([[ 0.70710678, -0.70710678],\n",
       "        [ 0.70710678,  0.70710678]]))"
      ]
     },
     "execution_count": 161,
     "metadata": {},
     "output_type": "execute_result"
    }
   ],
   "source": [
    "a,b=np.linalg.eig(trans)\n",
    "a,b\n",
    "#same as directly calculation , (1,1) (-1,-1) with eigen values 2 and 0"
   ]
  },
  {
   "cell_type": "code",
   "execution_count": 35,
   "metadata": {},
   "outputs": [
    {
     "data": {
      "text/plain": [
       "[<matplotlib.lines.Line2D at 0x841b948>]"
      ]
     },
     "execution_count": 35,
     "metadata": {},
     "output_type": "execute_result"
    },
    {
     "data": {
      "image/png": "[encoded data removed]",
      "text/plain": [
       "<Figure size 432x288 with 1 Axes>"
      ]
     },
     "metadata": {
      "needs_background": "light"
     },
     "output_type": "display_data"
    }
   ],
   "source": [
    "#3\n",
    "def part(N,T,h): #return the partition function by eigenvalues**N\n",
    "    A=Tran_matrix(T,h)\n",
    "    x,y=np.linalg.eig(A)\n",
    "\n",
    "    return x[0]**N+x[1]**N\n",
    "y=[]\n",
    "x=[]\n",
    "for i in range(100):    \n",
    "    y.append(part(i+1,10,2))\n",
    "    x.append(i+1)\n",
    "plt.xlim(1,101)\n",
    "plt.plot(x,y)\n",
    "#partition function with different size"
   ]
  },
  {
   "cell_type": "code",
   "execution_count": 7,
   "metadata": {},
   "outputs": [
    {
     "data": {
      "text/plain": [
       "2.5196958965332103e+46"
      ]
     },
     "execution_count": 7,
     "metadata": {},
     "output_type": "execute_result"
    }
   ],
   "source": [
    "#direct calculate partition (same with eigenvalue)\n",
    "def par(N,T,h):\n",
    "    A=Tran_matrix(T,h)\n",
    "    B=np.eye(2)\n",
    "    for i in range(N):\n",
    "        if i==0:\n",
    "            pass\n",
    "        B=B@A\n",
    "    return B[0,0]+B[1,1]\n",
    "par(100,2,1)"
   ]
  },
  {
   "cell_type": "code",
   "execution_count": 163,
   "metadata": {},
   "outputs": [
    {
     "data": {
      "text/plain": [
       "[<matplotlib.lines.Line2D at 0x9a19388>]"
      ]
     },
     "execution_count": 163,
     "metadata": {},
     "output_type": "execute_result"
    },
    {
     "data": {
      "image/png": "[encoded data removed]",
      "text/plain": [
       "<Figure size 432x288 with 1 Axes>"
      ]
     },
     "metadata": {
      "needs_background": "light"
     },
     "output_type": "display_data"
    }
   ],
   "source": [
    "x=[]\n",
    "y=[]\n",
    "for i in range(100):    \n",
    "    y.append(part(10,i+1,2))\n",
    "    x.append(i+1)\n",
    "plt.xlim(1,101)\n",
    "plt.plot(x,y)\n",
    "#partition function with different temperature"
   ]
  },
  {
   "cell_type": "code",
   "execution_count": 83,
   "metadata": {},
   "outputs": [
    {
     "name": "stderr",
     "output_type": "stream",
     "text": [
      "C:\\Users\\1234\\Anaconda3\\lib\\site-packages\\ipykernel_launcher.py:6: RuntimeWarning: overflow encountered in double_scalars\n",
      "  \n"
     ]
    },
    {
     "data": {
      "text/plain": [
       "[<matplotlib.lines.Line2D at 0x9881048>]"
      ]
     },
     "execution_count": 83,
     "metadata": {},
     "output_type": "execute_result"
    },
    {
     "data": {
      "image/png": "[encoded data removed]",
      "text/plain": [
       "<Figure size 432x288 with 1 Axes>"
      ]
     },
     "metadata": {
      "needs_background": "light"
     },
     "output_type": "display_data"
    }
   ],
   "source": [
    "x=[]\n",
    "y=[]\n",
    "for i in range(100):    \n",
    "    y.append(part(10,1,i))\n",
    "    x.append(i)\n",
    "plt.xlim(1,101)\n",
    "plt.plot(x,y)\n",
    "#partition function with different external field"
   ]
  },
  {
   "cell_type": "code",
   "execution_count": 74,
   "metadata": {},
   "outputs": [
    {
     "name": "stdout",
     "output_type": "stream",
     "text": [
      "0.9999999999999996 0.020413536678456426 0.0004331848750037507 0.020813093835462534\n"
     ]
    }
   ],
   "source": [
    "#4 correlation function\n",
    "\n",
    "def imp_matrix():\n",
    "    return np.array([[1,0],\n",
    "                    [0,-1]])\n",
    "def cor(i,j,N,T,h):\n",
    "    A=Tran_matrix(T,h)\n",
    "    S=imp_matrix()\n",
    "    B=np.eye(2)\n",
    "    for k in range(N):\n",
    "        if k==0:\n",
    "            pass\n",
    "        if i==j:\n",
    "            B=B@A       \n",
    "        else:\n",
    "            if k== i or k==j:\n",
    "                B=B@S@A\n",
    "                \n",
    "            else:\n",
    "                B=B@A\n",
    "                \n",
    "    a=B[0,0]+B[1,1]\n",
    "    \n",
    "    return a/part(N,T,h)\n",
    "        \n",
    "print(cor(0,0,100,50,1),cor(0,1,100,50,1),cor(0,50,100,50,1),cor(0,100,100,50,1))"
   ]
  },
  {
   "cell_type": "code",
   "execution_count": 69,
   "metadata": {},
   "outputs": [],
   "source": [
    "#5 plot the result\n",
    "def cor_plt(N,T,h):\n",
    "    x=[]\n",
    "    y=[]\n",
    "    for i in range(int(N/2)):\n",
    "        y.append(cor(0,i,N,T,h))\n",
    "        x.append(i)\n",
    "    return x,y"
   ]
  },
  {
   "cell_type": "code",
   "execution_count": 70,
   "metadata": {},
   "outputs": [
    {
     "data": {
      "text/plain": [
       "[<matplotlib.lines.Line2D at 0x9af3608>]"
      ]
     },
     "execution_count": 70,
     "metadata": {},
     "output_type": "execute_result"
    },
    {
     "data": {
      "image/png": "[encoded data removed]",
      "text/plain": [
       "<Figure size 432x288 with 1 Axes>"
      ]
     },
     "metadata": {
      "needs_background": "light"
     },
     "output_type": "display_data"
    }
   ],
   "source": [
    "x,N10=cor_plt(10,100,1)\n",
    "plt.plot(x,N10)"
   ]
  },
  {
   "cell_type": "code",
   "execution_count": 75,
   "metadata": {},
   "outputs": [
    {
     "data": {
      "text/plain": [
       "[<matplotlib.lines.Line2D at 0x9b58d88>]"
      ]
     },
     "execution_count": 75,
     "metadata": {},
     "output_type": "execute_result"
    },
    {
     "data": {
      "image/png": "[encoded data removed]",
      "text/plain": [
       "<Figure size 432x288 with 1 Axes>"
      ]
     },
     "metadata": {
      "needs_background": "light"
     },
     "output_type": "display_data"
    }
   ],
   "source": [
    "x,N500=cor_plt(500,100,1)\n",
    "plt.plot(x,N500)"
   ]
  },
  {
   "cell_type": "code",
   "execution_count": 89,
   "metadata": {},
   "outputs": [
    {
     "name": "stderr",
     "output_type": "stream",
     "text": [
      "C:\\Users\\1234\\Anaconda3\\lib\\site-packages\\ipykernel_launcher.py:14: RuntimeWarning: overflow encountered in matmul\n",
      "  \n",
      "C:\\Users\\1234\\Anaconda3\\lib\\site-packages\\ipykernel_launcher.py:6: RuntimeWarning: overflow encountered in double_scalars\n",
      "  \n",
      "C:\\Users\\1234\\Anaconda3\\lib\\site-packages\\ipykernel_launcher.py:24: RuntimeWarning: invalid value encountered in double_scalars\n",
      "C:\\Users\\1234\\Anaconda3\\lib\\site-packages\\ipykernel_launcher.py:20: RuntimeWarning: overflow encountered in matmul\n",
      "C:\\Users\\1234\\Anaconda3\\lib\\site-packages\\ipykernel_launcher.py:22: RuntimeWarning: invalid value encountered in double_scalars\n"
     ]
    },
    {
     "data": {
      "text/plain": [
       "[<matplotlib.lines.Line2D at 0x9c5cc48>,\n",
       " <matplotlib.lines.Line2D at 0x99d1988>,\n",
       " <matplotlib.lines.Line2D at 0x99d1bc8>,\n",
       " <matplotlib.lines.Line2D at 0x9c5cf48>,\n",
       " <matplotlib.lines.Line2D at 0x99d1f88>]"
      ]
     },
     "execution_count": 89,
     "metadata": {},
     "output_type": "execute_result"
    },
    {
     "data": {
      "image/png": "[encoded data removed]",
      "text/plain": [
       "<Figure size 432x288 with 1 Axes>"
      ]
     },
     "metadata": {
      "needs_background": "light"
     },
     "output_type": "display_data"
    }
   ],
   "source": [
    "x,T1000=cor_plt(50,1000,1)\n",
    "x,T100=cor_plt(50,100,1)\n",
    "x,T1=cor_plt(50,1,1)\n",
    "x,T50e_1=cor_plt(50,0.5,1) \n",
    "x,T10e_1=cor_plt(50,0.13,1) #limit temperature (show erro message ) \n",
    "plt.plot(x,T1000,'yo',T100,'r',T1,'b',T10e_5,'o',T10e_1)"
   ]
  },
  {
   "cell_type": "code",
   "execution_count": null,
   "metadata": {},
   "outputs": [],
   "source": []
  },
  {
   "cell_type": "code",
   "execution_count": null,
   "metadata": {},
   "outputs": [],
   "source": []
  }
 ],
 "metadata": {
  "kernelspec": {
   "display_name": "Python 3",
   "language": "python",
   "name": "python3"
  },
  "language_info": {
   "codemirror_mode": {
    "name": "ipython",
    "version": 3
   },
   "file_extension": ".py",
   "mimetype": "text/x-python",
   "name": "python",
   "nbconvert_exporter": "python",
   "pygments_lexer": "ipython3",
   "version": "3.7.4"
  }
 },
 "nbformat": 4,
 "nbformat_minor": 4
}
