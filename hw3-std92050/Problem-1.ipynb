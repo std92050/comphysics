{
 "cells": [
  {
   "cell_type": "markdown",
   "metadata": {},
   "source": [
    "# Exact solution of 2D Ising model\n",
    "References:\n",
    "* B. Kaufman, Phys. Rev. 76, 1232 (1949).\n",
    "* A. E. Ferdinand and M. P. A. Fisher, Phys. Rev. 185, 832 (1969).\n",
    "* Statistical Mechanics, Third Edition by R K Pathria and Paul D. Beale. (Ch 13.4)"
   ]
  },
  {
   "cell_type": "code",
   "execution_count": 2,
   "metadata": {},
   "outputs": [],
   "source": [
    "import numpy as np\n",
    "import matplotlib.pyplot as plt"
   ]
  },
  {
   "cell_type": "code",
   "execution_count": 3,
   "metadata": {},
   "outputs": [],
   "source": [
    "# parameters\n",
    "J = 1\n",
    "kB = 1\n",
    "Tc = 2/np.log(1+np.sqrt(2))\n",
    "Kc = np.log(1+np.sqrt(2))/2"
   ]
  },
  {
   "cell_type": "markdown",
   "metadata": {},
   "source": [
    "### $c$ function and its derivatives\n",
    "The $c$ function is defined as: (Eq 2.4, PRB 1969)\n",
    "$$\n",
    "  c_r =\\cosh(2K)\\coth(2K) - \\cos\\left(\\frac{r \\pi}{n}\\right) \n",
    "  = \\frac{\\cosh(2K)^2}{\\sinh(2K)} - \\cos\\left(\\frac{r \\pi}{n}\\right)\n",
    "  = \\sinh(2K) + \\frac{1}{\\sinh(2K)} - \\cos\\left(\\frac{r \\pi}{n}\\right).\n",
    "$$\n",
    "\n",
    "The first and second deratives of $c_r$ are: (they are independent of $r$ so we can drop the subscript.)\n",
    "\n",
    "$$\n",
    "\\DeclareMathOperator{\\csch}{csch}\n",
    "  c^\\prime = c^\\prime_r = \\cosh(2K)[4-2\\csch^2(2K)] = 2 \\cosh(2K)\\left(1-\\frac{1}{\\sinh(2K)^2}\\right).\n",
    "$$\n",
    "\n",
    "$$\n",
    "  c^{\\prime\\prime} = c^{\\prime\\prime}_r = 8\\csch(2K)^3 \\cosh(2K)^2+4(\\sinh(2K)-\\csch(2K))\n",
    "  =  \\frac{8\\cosh(2K)^2}{\\sinh(2K)^3} + 4\\left( \\sinh(2K) - \\frac{1}{\\sinh(2K)} \\right).\n",
    "$$"
   ]
  },
  {
   "cell_type": "markdown",
   "metadata": {},
   "source": [
    "### $\\gamma$ function and its derivatives\n",
    "$\\gamma$ and $c$ related by the equation $\\cosh(\\gamma_l)=c_l$, (Eq 2.4, PRB 1969) so that\n",
    "$$ \n",
    "  \\gamma_0 = 2K + \\ln(\\tanh(K)). \n",
    "$$\n",
    "$$ \n",
    "  \\gamma_r  =\\text{arccosh}(c_r) = \\ln \\left( c_r + (c^2_r-1)^{1/2} \\right), l \\neq 0. \n",
    "$$\n",
    "Note that there are sign ambituity. The equations above are the correct choices. \n",
    "For example one **should not** choose $\\gamma_0 = \\ln \\left( c_0 + (c^2_0-1)^{1/2} \\right)$. c.f. Fig3 of Phys. Rev. 76, 1232 (1949).\n",
    "\n",
    "Note that $\\gamma_l = \\gamma_{2n-l}$ and for $0\\le l\\le n$ the function $\\gamma_l$ is monotonically increasing in $l$.\n",
    "\n",
    "The first deratives of $\\gamma_r$ are:\n",
    "$$ \n",
    "  \\gamma^\\prime_0 = 2 + \\frac{1}{\\tanh(K)} \\frac{1}{\\cosh^2(K)}\n",
    "  = 2 + \\frac{2}{\\sinh(2K)}\n",
    "  = 2 (1 + \\frac{1}{\\sinh(2K)}).\n",
    "$$\n",
    "\n",
    "$$\n",
    "  \\gamma^\\prime_r = \\frac{c^\\prime_r}{\\sqrt{c^2_r-1}} = c^\\prime (c^2_r-1)^{-1/2}.\n",
    "$$\n",
    "\n",
    "The second deratives of $\\gamma_r$ are:\n",
    "\n",
    "$$\n",
    "  \\gamma_0^{\\prime\\prime} \n",
    "  = -4 \\csch(2K) \\coth(2K)\n",
    "  = -4 \\frac{\\cosh{2K}}{\\sinh(2K)^2}.\n",
    "$$\n",
    "\n",
    "$$\n",
    "  \\gamma_r^{\\prime\\prime} = \\frac{c_r^{\\prime\\prime}}{\\sqrt{c^2-1}} - \\frac{ (c^\\prime_r)^2 c_r }{ (c^2_r-1)^{3/2} }\n",
    "  = c^{\\prime\\prime} (c^2_r-1)^{-1/2} - (c^\\prime)^2 c_r (c^2_r-1)^{-3/2}\n",
    "$$"
   ]
  },
  {
   "cell_type": "markdown",
   "metadata": {},
   "source": [
    "### $Z_1, Z_2, Z_3, Z_4$\n",
    "The canonical partition function reads:\n",
    "$$\n",
    "  Z(K) = \\frac{1}{2} \\left(2\\sinh(2K)\\right)^{mn/2} (Z_1(K) + Z_2(K) + Z_3(K) + Z_4(K)),\n",
    "$$\n",
    "where\n",
    "$$ Z_1(K) = \\prod_{r=0}^{n-1} 2\\cosh(\\frac{m}{2} \\gamma_{2r+1}), \\; Z_2(K) = \\prod_{r=0}^{n-1} 2\\sinh(\\frac{m}{2} \\gamma_{2r+1}), $$\n",
    "$$ Z_3(K) = \\prod_{r=0}^{n-1} 2\\cosh(\\frac{m}{2} \\gamma_{2r1}), \\; Z_4(K) = \\prod_{r=0}^{n-1} 2\\sinh(\\frac{m}{2} \\gamma_{2r1}). $$\n",
    "\n",
    "Note that $Z_4$ changes sign at critical point. $Z_1, Z_2, Z_3$ are alwayas positive. "
   ]
  },
  {
   "cell_type": "markdown",
   "metadata": {},
   "source": [
    "### $\\log(Z)$\n",
    "The log of the partition function reads:\n",
    "$$\n",
    "  \\frac{\\ln Z}{mn}=  \\frac{1}{mn} \\ln( \\frac{1}{2} ) + \\frac{1}{2} \\ln( 2\\sinh(2K) ) + \\ln(Z1(K)+Z2(K)+Z3(K)+Z4(K)),\n",
    "$$\n",
    "or\n",
    "$$\n",
    "  \\frac{\\ln Z}{mn} = \\frac{1}{mn} \\ln( \\frac{1}{2} ) + \\frac{1}{2} \\ln( 2\\sinh(2K) ) \n",
    "  + \\ln(Z1(K))\n",
    "  + \\ln\\left[ 1+ \\frac{Z2(K)}{Z1(K)}+\\frac{Z3(K)}{Z1(K)}+\\frac{Z4(K)}{Z1(K)} \\right].\n",
    "$$"
   ]
  },
  {
   "cell_type": "markdown",
   "metadata": {},
   "source": [
    "### $\\frac{Z^\\prime_1}{Z_1}, \\frac{Z^\\prime_2}{Z_2}, \\frac{Z^\\prime_3}{Z_3}, \\frac{Z^\\prime_4}{Z_4}$\n",
    "\n",
    "$$ \n",
    "  \\frac{Z^\\prime_1}{Z_1} = \\frac{m}{2} \\sum_{r=0}^{n-1} \\gamma^\\prime_{2r+1} \\tanh\\left( \\frac{m}{2}\\gamma_{2r+1} \\right), \\;\n",
    "  \\frac{Z^\\prime_2}{Z_2} = \\frac{m}{2} \\sum_{r=0}^{n-1} \\gamma^\\prime_{2r+1} \\coth\\left( \\frac{m}{2}\\gamma_{2r+1} \\right).\n",
    "$$\n",
    "\n",
    "$$\n",
    "  \\frac{Z^\\prime_3}{Z_3} = \\frac{m}{2} \\sum_{r=0}^{n-1} \\gamma^\\prime_{2r} \\tanh\\left( \\frac{m}{2}\\gamma_{2r} \\right), \\;\n",
    "  \\frac{Z^\\prime_4}{Z_4} = \\frac{m}{2} \\sum_{r=0}^{n-1} \\gamma^\\prime_{2r} \\tanh\\left( \\frac{m}{2}\\gamma_{2r} \\right).\n",
    "$$"
   ]
  },
  {
   "cell_type": "markdown",
   "metadata": {},
   "source": [
    "### $\\frac{Z^{\\prime\\prime}_1}{Z_1}, \\frac{Z^{\\prime\\prime}_2}{Z_2}, \\frac{Z^{\\prime\\prime}_3}{Z_3}, \\frac{Z^{\\prime\\prime}_4}{Z_4}$\n",
    "\n",
    "$$\n",
    "  \\frac{Z^{\\prime\\prime}_1}{Z_1} = \n",
    "  \\left[ \\frac{m}{2} \\sum_{r=0}^{n-1} \\gamma^\\prime_{2r+1} \\tanh\\left( \\frac{m}{2}\\gamma_{2r+1} \\right) \\right]^2\n",
    "  + \\frac{m}{2} \\sum_{n=0}^{n-1} \n",
    "  \\left[ \\gamma^{\\prime \\prime} \\tanh\\left( \\frac{m}{2}\\gamma_{2r+1} \\right)\n",
    "  + \\frac{m}{2} \\gamma^{\\prime} \\cosh^{-2}\\left( \\frac{m}{2}\\gamma_{2r+1} \\right) \\right],\n",
    "$$\n",
    "\n",
    "$$\n",
    "  \\frac{Z^{\\prime\\prime}_2}{Z_2} = \n",
    "  \\left[ \\frac{m}{2} \\sum_{r=0}^{n-1} \\gamma^\\prime_{2r+1} \\coth\\left( \\frac{m}{2}\\gamma_{2r+1} \\right) \\right]^2\n",
    "  + \\frac{m}{2} \\sum_{n=0}^{n-1} \n",
    "  \\left[ \\gamma^{\\prime \\prime} \\coth\\left( \\frac{m}{2}\\gamma_{2r+1} \\right)\n",
    "  - \\frac{m}{2} \\gamma^{\\prime} \\sinh^{-2}\\left( \\frac{m}{2}\\gamma_{2r+1} \\right) \\right],\n",
    "$$\n",
    "\n",
    "$$\n",
    "  \\frac{Z^{\\prime\\prime}_3}{Z_3} = \n",
    "  \\left[ \\frac{m}{2} \\sum_{r=0}^{n-1} \\gamma^\\prime_{2r} \\tanh\\left( \\frac{m}{2}\\gamma_{2r} \\right) \\right]^2\n",
    "  + \\frac{m}{2} \\sum_{n=0}^{n-1} \n",
    "  \\left[ \\gamma^{\\prime \\prime} \\tanh\\left( \\frac{m}{2}\\gamma_{2r} \\right)\n",
    "  + \\frac{m}{2} \\gamma^{\\prime} \\cosh^{-2}\\left( \\frac{m}{2}\\gamma_{2r} \\right) \\right],\n",
    "$$\n",
    "\n",
    "$$\n",
    "  \\frac{Z^{\\prime\\prime}_4}{Z_4} = \n",
    "  \\left[ \\frac{m}{2} \\sum_{r=0}^{n-1} \\gamma^\\prime_{2r} \\coth\\left( \\frac{m}{2}\\gamma_{2r} \\right) \\right]^2\n",
    "  + \\frac{m}{2} \\sum_{n=0}^{n-1} \n",
    "  \\left[ \\gamma^{\\prime \\prime} \\coth\\left( \\frac{m}{2}\\gamma_{2r} \\right)\n",
    "  - \\frac{m}{2} \\gamma^{\\prime} \\sinh^{-2}\\left( \\frac{m}{2}\\gamma_{2r} \\right) \\right].\n",
    "$$"
   ]
  },
  {
   "cell_type": "markdown",
   "metadata": {},
   "source": [
    "## Energy per site\n",
    "$$\n",
    "  \\frac{U_{nm}}{nm} = - \\frac{1}{nm} J \\frac{d}{dK} \\ln Z_{nm}\n",
    "  =-J \\coth(2K) - \\frac{J}{mn} \\frac{Z_1^\\prime(K)+Z_2^\\prime(K)+Z_3^\\prime(K)+Z_4^\\prime(K)}{Z_1(K)+Z_2(K)+Z_3(K)+Z_4(K)}\n",
    "  =-J \\coth(2K) - \\frac{J}{mn} \n",
    "  \\frac{\\frac{Z_1^\\prime}{Z_1}+\\frac{Z_2^\\prime}{Z_2}\\frac{Z_2}{Z_1}+\\frac{Z_3^\\prime}{Z_3}\\frac{Z_3}{Z_1}+\\frac{Z_4^\\prime}{Z_4}\\frac{Z_4}{Z_1}}\n",
    "  {1+\\frac{Z_2}{Z_1}+\\frac{Z_2}{Z_1}+\\frac{Z_3}{Z_1}+\\frac{Z_4}{Z_1}}.\n",
    "$$"
   ]
  },
  {
   "cell_type": "markdown",
   "metadata": {},
   "source": [
    "## Specific heat pe site\n",
    "$$\n",
    "  \\frac{C_{nm}}{nm} = \\frac{1}{nm} K^2 \\frac{d^2}{dK^2} \\ln Z_{nm}\n",
    "  = -\\frac{2K^2}{\\sinh(2K)^2} + \\frac{K^2}{nm} \n",
    "  \\left[ \n",
    "    \\frac{Z^{\\prime\\prime}_1 + Z^{\\prime\\prime}_2 + Z^{\\prime\\prime}_3 + Z^{\\prime\\prime}_4}{Z_1 + Z_2 + Z_3 + Z_4}\n",
    "    - \n",
    "    \\left[\\frac{Z^{\\prime}_1 + Z^{\\prime}_2 + Z^{\\prime}_3 + Z^{\\prime}_4}{Z_1 + Z_2 + Z_3 + Z_4}\\right]^2\n",
    "  \\right]\n",
    "$$"
   ]
  },
  {
   "cell_type": "markdown",
   "metadata": {},
   "source": [
    "## Problem-1\n",
    "\n",
    "Plot $\\ln Z$, $\\frac{E}{mn}$, $\\frac{C}{mn}$ as a function of temperature $T$ for $m=n=2, 4, 8$, etc. What is the largest size you can reach without overflow?\n",
    "\n",
    "![Alt text](FSS.png)"
   ]
  },
  {
   "cell_type": "code",
   "execution_count": 4,
   "metadata": {},
   "outputs": [],
   "source": [
    "def c(l,T,m,n):\n",
    "    return np.cosh(2/T)*1/np.tanh(2/T)-np.cos(l*np.pi/n)\n",
    "def r_0(T):\n",
    "    return 2/T +np.log(np.tanh(1/T))\n",
    "def r(l,T,m,n):\n",
    "    if l==0:\n",
    "        print(\"l cant be zero\")\n",
    "    else:\n",
    "        return np.arccosh(c(l,T,m,n))\n",
    "    \n",
    "def Z_1(T,m,n):\n",
    "    for i in range(n):\n",
    "        if i==0:\n",
    "            a=2*np.cosh(m*r(1,T,m,n)/2)\n",
    "        else:\n",
    "            a=a*2*np.cosh(m*r(2*i+1,T,m,n)/2)\n",
    "        return a\n",
    "def Z_2(T,m,n):\n",
    "    for i in range(n):\n",
    "        if i==0:\n",
    "            a=2*np.sinh(m*r(1,T,m,n)/2)\n",
    "        else:\n",
    "            a=a*2*np.sinh(m*r(2*i+1,T,m,n)/2)\n",
    "        return a\n",
    "    \n",
    "def Z_3(T,m,n):\n",
    "    for i in range(n):\n",
    "        if i==0:\n",
    "            a=2*np.cosh(m*r_0(T)/2)\n",
    "        else:\n",
    "            a=a*2*np.cosh(m*r(2*i,T,m,n)/2)\n",
    "        return a\n",
    "def Z_4(T,m,n):\n",
    "    for i in range(n):\n",
    "        if i==0:\n",
    "            a=2*np.sinh(m*r_0(T)/2)\n",
    "        else:\n",
    "            a=a*2*np.sinh(m*r(2*i,T,m,n)/2)\n",
    "        return a\n",
    "def lnZ(T,m,n):\n",
    "    a=np.log(Z_1(T,m,n)+Z_2(T,m,n)+Z_3(T,m,n)+Z_4(T,m,n))\n",
    "    return (1/2)*np.sinh(2/T)*a\n"
   ]
  },
  {
   "cell_type": "code",
   "execution_count": 5,
   "metadata": {},
   "outputs": [
    {
     "data": {
      "text/plain": [
       "[<matplotlib.lines.Line2D at 0x7b98708>,\n",
       " <matplotlib.lines.Line2D at 0x3e83c88>,\n",
       " <matplotlib.lines.Line2D at 0x3e83e48>]"
      ]
     },
     "execution_count": 5,
     "metadata": {},
     "output_type": "execute_result"
    },
    {
     "data": {
      "image/png": "[encoded data removed]",
      "text/plain": [
       "<Figure size 432x288 with 1 Axes>"
      ]
     },
     "metadata": {
      "needs_background": "light"
     },
     "output_type": "display_data"
    }
   ],
   "source": [
    "S2=[]\n",
    "S4=[]\n",
    "S8=[]\n",
    "T=[]\n",
    "for i in range(40):\n",
    "    if i==0:\n",
    "        pass\n",
    "    else:\n",
    "        T.append(i/10)\n",
    "        S2.append(lnZ(i/10,2,2))\n",
    "        S4.append(lnZ(i/10,4,4))\n",
    "        S8.append(lnZ(i/10,8,8))\n",
    "plt.ylim(0,50)\n",
    "plt.plot(T,S2,'ro',T,S4,'b',T,S8,'g')"
   ]
  },
  {
   "cell_type": "code",
   "execution_count": 6,
   "metadata": {},
   "outputs": [],
   "source": [
    "def Dc(T):\n",
    "    return 2*np.cosh(2/T)*(1-1/np.sinh(2/T))\n",
    "def Dr_0(T):\n",
    "    return 2+2/np.sinh(2/T)\n",
    "def Dr(l,T,m,n):\n",
    "    return Dc(T)/(c(l,T,m,n)**2-1)**(1/2)\n",
    "    \n",
    "def DZ1_Z1(T,m,n):\n",
    "    for i in range(n):\n",
    "        a=2*m*Dr(2*i+1,T,m,n)*np.tanh(m*r(2*i+1,T,m,n)/2)\n",
    "        if i==0:\n",
    "            b=a\n",
    "        else:\n",
    "            b+=a\n",
    "    return b\n",
    "def DZ2_Z2(T,m,n):\n",
    "    for i in range(n):\n",
    "        a=2*m*Dr(2*i+1,T,m,n)*1/np.tanh(m*r(2*i+1,T,m,n)/2)\n",
    "        if i==0:\n",
    "            b=a\n",
    "        else:\n",
    "            b+=a\n",
    "    return a\n",
    "def DZ3_Z3(T,m,n):\n",
    "    for i in range(n):\n",
    "        if i==0:\n",
    "            a=2*m*Dr_0(T)*np.tanh(m*r_0(T)/2)\n",
    "        else:\n",
    "            a=a+2*m*Dr(2*i,T,m,n)*np.tanh(m*r(2*i,T,m,n)/2)\n",
    "    return a\n",
    "def DZ4_Z4(T,m,n):\n",
    "    for i in range(n):\n",
    "        if i==0:\n",
    "            a=2*m*Dr_0(T)*1/np.tanh(m*r_0(T)/2)\n",
    "        else:\n",
    "            a=a+2*m*Dr(2*i,T,m,n)*1/np.tanh(m*r(2*i,T,m,n)/2)\n",
    "    return a    "
   ]
  },
  {
   "cell_type": "code",
   "execution_count": 7,
   "metadata": {},
   "outputs": [],
   "source": [
    "def U_avg(T,m,n):\n",
    "    c=(DZ1_Z1(T,m,n)*Z_1(T,m,n)+DZ2_Z2(T,m,n)*Z_2(T,m,n)+DZ3_Z3(T,m,n)*Z_3(T,m,n)+DZ4_Z4(T,m,n)*Z_4(T,m,n))/Z_1(T,m,n)\n",
    "    a=1/np.tanh(2/T)\n",
    "    b=1+2*Z_2(T,m,n)/Z_1(T,m,n)+Z_3(T,m,n)/Z_1(T,m,n)+Z_4(T,m,n)/Z_1(T,m,n)\n",
    "    return -1*J*(a+c/(n*m*b))"
   ]
  },
  {
   "cell_type": "code",
   "execution_count": 8,
   "metadata": {},
   "outputs": [
    {
     "data": {
      "text/plain": [
       "[<matplotlib.lines.Line2D at 0x7c72fc8>,\n",
       " <matplotlib.lines.Line2D at 0x3f45f08>,\n",
       " <matplotlib.lines.Line2D at 0x3f4f108>]"
      ]
     },
     "execution_count": 8,
     "metadata": {},
     "output_type": "execute_result"
    },
    {
     "data": {
      "image/png": "[encoded data removed]",
      "text/plain": [
       "<Figure size 432x288 with 1 Axes>"
      ]
     },
     "metadata": {
      "needs_background": "light"
     },
     "output_type": "display_data"
    }
   ],
   "source": [
    "S2=[]\n",
    "S4=[]\n",
    "S8=[]\n",
    "T=[]\n",
    "for i in range(40):\n",
    "    if i==0:\n",
    "        pass\n",
    "    else:\n",
    "        T.append(i/10)\n",
    "        S2.append(U_avg(i/10,2,2))\n",
    "        S4.append(U_avg(i/10,4,4))\n",
    "        S8.append(U_avg(i/10,8,8))\n",
    "#plt.ylim(0,5)\n",
    "plt.xlabel(\"temprature\")\n",
    "plt.ylabel(\"avg site energy\")\n",
    "plt.plot(T,S2,'ro',T,S4,'b',T,S8,'g')"
   ]
  },
  {
   "cell_type": "markdown",
   "metadata": {},
   "source": [
    "### $\\gamma$ function and its derivatives\n",
    "$\\gamma$ and $c$ related by the equation $\\cosh(\\gamma_l)=c_l$, (Eq 2.4, PRB 1969) so that\n",
    "$$ \n",
    "  \\gamma_0 = 2K + \\ln(\\tanh(K)). \n",
    "$$\n",
    "$$ \n",
    "  \\gamma_r  =\\text{arccosh}(c_r) = \\ln \\left( c_r + (c^2_r-1)^{1/2} \\right), l \\neq 0. \n",
    "$$\n",
    "Note that there are sign ambituity. The equations above are the correct choices. \n",
    "For example one **should not** choose $\\gamma_0 = \\ln \\left( c_0 + (c^2_0-1)^{1/2} \\right)$. c.f. Fig3 of Phys. Rev. 76, 1232 (1949).\n",
    "\n",
    "Note that $\\gamma_l = \\gamma_{2n-l}$ and for $0\\le l\\le n$ the function $\\gamma_l$ is monotonically increasing in $l$.\n",
    "\n",
    "\n",
    "The first deratives of $\\gamma_r$ are:\n",
    "$$ \n",
    "  \\gamma^\\prime_0 = 2 + \\frac{1}{\\tanh(K)} \\frac{1}{\\cosh^2(K)}\n",
    "  = 2 + \\frac{2}{\\sinh(2K)}\n",
    "  = 2 (1 + \\frac{1}{\\sinh(2K)}).\n",
    "$$\n",
    "\n",
    "$$\n",
    "  \\gamma^\\prime_r = \\frac{c^\\prime_r}{\\sqrt{c^2_r-1}} = c^\\prime (c^2_r-1)^{-1/2}.\n",
    "$$\n",
    "\n",
    "The second deratives of $\\gamma_r$ are:\n",
    "\n",
    "$$\n",
    "  \\gamma_0^{\\prime\\prime} \n",
    "  = -4 \\csch(2K) \\coth(2K)\n",
    "  = -4 \\frac{\\cosh{2K}}{\\sinh(2K)^2}.\n",
    "$$\n",
    "\n",
    "$$\n",
    "  \\gamma_r^{\\prime\\prime} = \\frac{c_r^{\\prime\\prime}}{\\sqrt{c^2-1}} - \\frac{ (c^\\prime_r)^2 c_r }{ (c^2_r-1)^{3/2} }\n",
    "  = c^{\\prime\\prime} (c^2_r-1)^{-1/2} - (c^\\prime)^2 c_r (c^2_r-1)^{-3/2}\n",
    "$$"
   ]
  },
  {
   "cell_type": "markdown",
   "metadata": {},
   "source": [
    "### $c$ function and its derivatives\n",
    "The $c$ function is defined as: (Eq 2.4, PRB 1969)\n",
    "$$\n",
    "  c_r =\\cosh(2K)\\coth(2K) - \\cos\\left(\\frac{r \\pi}{n}\\right) \n",
    "  = \\frac{\\cosh(2K)^2}{\\sinh(2K)} - \\cos\\left(\\frac{r \\pi}{n}\\right)\n",
    "  = \\sinh(2K) + \\frac{1}{\\sinh(2K)} - \\cos\\left(\\frac{r \\pi}{n}\\right).\n",
    "$$\n",
    "\n",
    "The first and second deratives of $c_r$ are: (they are independent of $r$ so we can drop the subscript.)\n",
    "\n",
    "$$\n",
    "\\DeclareMathOperator{\\csch}{csch}\n",
    "  c^\\prime = c^\\prime_r = \\cosh(2K)[4-2\\csch^2(2K)] = 2 \\cosh(2K)\\left(1-\\frac{1}{\\sinh(2K)^2}\\right).\n",
    "$$\n",
    "\n",
    "$$\n",
    "  c^{\\prime\\prime} = c^{\\prime\\prime}_r = 8\\csch(2K)^3 \\cosh(2K)^2+4(\\sinh(2K)-\\csch(2K))\n",
    "  =  \\frac{8\\cosh(2K)^2}{\\sinh(2K)^3} + 4\\left( \\sinh(2K) - \\frac{1}{\\sinh(2K)} \\right).\n",
    "$$"
   ]
  },
  {
   "cell_type": "code",
   "execution_count": 11,
   "metadata": {},
   "outputs": [],
   "source": [
    "def D2c(T):\n",
    "    a=(8*(np.cosh(2/T))**2)*(np.sinh(2/T)**-3)\n",
    "    b=4*(np.sinh(2/T)-1/np.sinh(2/T))\n",
    "    return a+b\n",
    "def D2r_0(T):\n",
    "    return -4*np.cosh(2/T)*(np.sinh(2/T)**-2)\n",
    "def D2r(l,T,m,n):\n",
    "    a=D2c(T)/((c(l,T,m,n)**2-1)**(1/2))\n",
    "    b=((Dc(T)**2)*c(l,T,m,n))/((c(l,T,m,n)**2-1)**(3/2))\n",
    "    return a-b\n",
    "def D2Z1(T,m,n):\n",
    "    a=0\n",
    "    b=0\n",
    "    for i in range(n):\n",
    "        a+=(m/2)*(Dr(2*i+1,T,m,n)*np.tanh(m*r(2*i+1,T,m,n)/2))\n",
    "        b+=(m/2)*(D2r(2*i+1,T,m,n)*np.tanh(m*r(2*i+1,T,m,n)/2)+(m/2)*(Dr(2*i+1,T,m,n)*(1/np.cosh(0.5*m*r(2*i+1,T,m,n))))**2)\n",
    "    return a**2+b\n",
    "def D2Z2(T,m,n):\n",
    "    a=0\n",
    "    b=0\n",
    "    for i in range(n):\n",
    "        a+=(m/2)*(Dr(2*i+1,T,m,n)*1/np.tanh(m*r(2*i+1,T,m,n)/2))\n",
    "        b+=(m/2)*(D2r(2*i+1,T,m,n)*1/np.tanh(m*r(2*i+1,T,m,n)/2)-(m/2)*(Dr(2*i+1,T,m,n)*1/np.sinh(0.5*m*r(2*i+1,T,m,n)))**2)\n",
    "    return a**2+b\n",
    "def D2Z3(T,m,n):\n",
    "    for i in range(n):\n",
    "        if i==0:\n",
    "            a=(m/2)*(Dr_0(T)*np.tanh(m*r_0(T)/2))\n",
    "            b=(m/2)*(D2r_0(T)*np.tanh(m*r_0(T))+(m/2)*(Dr_0(T)*1/np.cosh(0.5*m*r_0(T)))**2)\n",
    "        else:\n",
    "            a+=(m/2)*(Dr(2*i,T,m,n)*np.tanh(m*r(2*i,T,m,n)/2))\n",
    "            b+=(m/2)*(D2r(2*i,T,m,n)*np.tanh(m*r(2*i,T,m,n)/2)+(m/2)*(Dr(2*i+1,T,m,n)*(1/np.cosh(0.5*m*r(2*i,T,m,n))))**2)\n",
    "    return a**2+b\n",
    "\n",
    "def D2Z4(T,m,n):\n",
    "    for i in range(n):\n",
    "        if i==0:\n",
    "            a=(m/2)*(Dr_0(T)*1/np.tanh(m*r_0(T)/2))\n",
    "            b=(m/2)*(D2r_0(T)*1/np.tanh(m*r_0(T)/2)-(m/2)*(Dr_0(T)*(1/np.sinh(0.5*m*r_0(T))))**2)\n",
    "        else:\n",
    "            a+=(m/2)*(Dr(2*i,T,m,n)*1/np.tanh(m*r(2*i,T,m,n)/2))\n",
    "            b+=(m/2)*(D2r(2*i,T,m,n)*1/np.tanh(m*r(2*i,T,m,n)/2)-(m/2)*(Dr(2*i,T,m,n)*1/np.sinh(0.5*m*r(2*i,T,m,n)))**2)\n",
    "    return a**2+b"
   ]
  },
  {
   "cell_type": "markdown",
   "metadata": {},
   "source": [
    "### $\\frac{Z^{\\prime\\prime}_1}{Z_1}, \\frac{Z^{\\prime\\prime}_2}{Z_2}, \\frac{Z^{\\prime\\prime}_3}{Z_3}, \\frac{Z^{\\prime\\prime}_4}{Z_4}$\n",
    "\n",
    "$$\n",
    "  \\frac{Z^{\\prime\\prime}_1}{Z_1} = \n",
    "  \\left[ \\frac{m}{2} \\sum_{r=0}^{n-1} \\gamma^\\prime_{2r+1} \\tanh\\left( \\frac{m}{2}\\gamma_{2r+1} \\right) \\right]^2\n",
    "  + \\frac{m}{2} \\sum_{n=0}^{n-1} \n",
    "  \\left[ \\gamma^{\\prime \\prime} \\tanh\\left( \\frac{m}{2}\\gamma_{2r+1} \\right)\n",
    "  + \\frac{m}{2} \\gamma^{\\prime} \\cosh^{-2}\\left( \\frac{m}{2}\\gamma_{2r+1} \\right) \\right],\n",
    "$$\n",
    "\n",
    "$$\n",
    "  \\frac{Z^{\\prime\\prime}_2}{Z_2} = \n",
    "  \\left[ \\frac{m}{2} \\sum_{r=0}^{n-1} \\gamma^\\prime_{2r+1} \\coth\\left( \\frac{m}{2}\\gamma_{2r+1} \\right) \\right]^2\n",
    "  + \\frac{m}{2} \\sum_{n=0}^{n-1} \n",
    "  \\left[ \\gamma^{\\prime \\prime} \\coth\\left( \\frac{m}{2}\\gamma_{2r+1} \\right)\n",
    "  - \\frac{m}{2} \\gamma^{\\prime} \\sinh^{-2}\\left( \\frac{m}{2}\\gamma_{2r+1} \\right) \\right],\n",
    "$$\n",
    "\n",
    "$$\n",
    "  \\frac{Z^{\\prime\\prime}_3}{Z_3} = \n",
    "  \\left[ \\frac{m}{2} \\sum_{r=0}^{n-1} \\gamma^\\prime_{2r} \\tanh\\left( \\frac{m}{2}\\gamma_{2r} \\right) \\right]^2\n",
    "  + \\frac{m}{2} \\sum_{n=0}^{n-1} \n",
    "  \\left[ \\gamma^{\\prime \\prime} \\tanh\\left( \\frac{m}{2}\\gamma_{2r} \\right)\n",
    "  + \\frac{m}{2} \\gamma^{\\prime} \\cosh^{-2}\\left( \\frac{m}{2}\\gamma_{2r} \\right) \\right],\n",
    "$$\n",
    "\n",
    "$$\n",
    "  \\frac{Z^{\\prime\\prime}_4}{Z_4} = \n",
    "  \\left[ \\frac{m}{2} \\sum_{r=0}^{n-1} \\gamma^\\prime_{2r} \\coth\\left( \\frac{m}{2}\\gamma_{2r} \\right) \\right]^2\n",
    "  + \\frac{m}{2} \\sum_{n=0}^{n-1} \n",
    "  \\left[ \\gamma^{\\prime \\prime} \\coth\\left( \\frac{m}{2}\\gamma_{2r} \\right)\n",
    "  - \\frac{m}{2} \\gamma^{\\prime} \\sinh^{-2}\\left( \\frac{m}{2}\\gamma_{2r} \\right) \\right].\n",
    "$$"
   ]
  },
  {
   "cell_type": "code",
   "execution_count": 12,
   "metadata": {},
   "outputs": [
    {
     "data": {
      "text/plain": [
       "-28.26080199356317"
      ]
     },
     "execution_count": 12,
     "metadata": {},
     "output_type": "execute_result"
    }
   ],
   "source": [
    "def avg_C(T,m,n):\n",
    "    a=1/np.sinh(2/T)\n",
    "    b=D2Z1(T,m,n)*Z_1(T,m,n)+D2Z2(T,m,n)*Z_2(T,m,n)+D2Z3(T,m,n)*Z_3(T,m,n)+D2Z4(T,m,n)*Z_4(T,m,n)\n",
    "    c=DZ1_Z1(T,m,n)*Z_1(T,m,n)+DZ2_Z2(T,m,n)*Z_2(T,m,n)+DZ3_Z3(T,m,n)*Z_3(T,m,n)+DZ4_Z4(T,m,n)*Z_4(T,m,n)\n",
    "    d=Z_1(T,m,n)+Z_2(T,m,n)+Z_3(T,m,n)+Z_4(T,m,n)\n",
    "    return (1/T**2)*(-2*a**2+(1/(n*m))*((b/d)-(c/d)**2))\n",
    "avg_C(1,2,2)"
   ]
  },
  {
   "cell_type": "markdown",
   "metadata": {},
   "source": [
    "## Specific heat pe site\n",
    "$$\n",
    "  \\frac{C_{nm}}{nm} = \\frac{1}{nm} K^2 \\frac{d^2}{dK^2} \\ln Z_{nm}\n",
    "  = -\\frac{2K^2}{\\sinh(2K)^2} + \\frac{K^2}{nm} \n",
    "  \\left[ \n",
    "    \\frac{Z^{\\prime\\prime}_1 + Z^{\\prime\\prime}_2 + Z^{\\prime\\prime}_3 + Z^{\\prime\\prime}_4}{Z_1 + Z_2 + Z_3 + Z_4}\n",
    "    - \n",
    "    \\left[\\frac{Z^{\\prime}_1 + Z^{\\prime}_2 + Z^{\\prime}_3 + Z^{\\prime}_4}{Z_1 + Z_2 + Z_3 + Z_4}\\right]^2\n",
    "  \\right]\n",
    "$$"
   ]
  },
  {
   "cell_type": "code",
   "execution_count": 13,
   "metadata": {},
   "outputs": [
    {
     "data": {
      "text/plain": [
       "[<matplotlib.lines.Line2D at 0x8054a48>,\n",
       " <matplotlib.lines.Line2D at 0x8054688>,\n",
       " <matplotlib.lines.Line2D at 0x8054d88>]"
      ]
     },
     "execution_count": 13,
     "metadata": {},
     "output_type": "execute_result"
    },
    {
     "data": {
      "image/png": "[encoded data removed]",
      "text/plain": [
       "<Figure size 432x288 with 1 Axes>"
      ]
     },
     "metadata": {
      "needs_background": "light"
     },
     "output_type": "display_data"
    }
   ],
   "source": [
    "S2=[]\n",
    "S4=[]\n",
    "S8=[]\n",
    "T=[]\n",
    "for i in range(40):\n",
    "    if i==0:\n",
    "        pass\n",
    "    else:\n",
    "        T.append(i/10)\n",
    "        S2.append(avg_C(i/10,2,2))\n",
    "        S4.append(avg_C(i/10,4,4))\n",
    "        S8.append(avg_C(i/10,8,8))\n",
    "plt.xlim(1,5)\n",
    "plt.ylim(-100,10)\n",
    "\n",
    "plt.xlabel(\"temprature\")\n",
    "plt.ylabel(\"avg site Capacity\")\n",
    "plt.plot(T,S2,'ro',T,S4,'b--o',T,S8,'g')"
   ]
  },
  {
   "cell_type": "code",
   "execution_count": null,
   "metadata": {},
   "outputs": [],
   "source": []
  },
  {
   "cell_type": "code",
   "execution_count": null,
   "metadata": {},
   "outputs": [],
   "source": []
  },
  {
   "cell_type": "code",
   "execution_count": null,
   "metadata": {},
   "outputs": [],
   "source": []
  }
 ],
 "metadata": {
  "kernelspec": {
   "display_name": "Python 3",
   "language": "python",
   "name": "python3"
  },
  "language_info": {
   "codemirror_mode": {
    "name": "ipython",
    "version": 3
   },
   "file_extension": ".py",
   "mimetype": "text/x-python",
   "name": "python",
   "nbconvert_exporter": "python",
   "pygments_lexer": "ipython3",
   "version": "3.7.4"
  }
 },
 "nbformat": 4,
 "nbformat_minor": 4
}
