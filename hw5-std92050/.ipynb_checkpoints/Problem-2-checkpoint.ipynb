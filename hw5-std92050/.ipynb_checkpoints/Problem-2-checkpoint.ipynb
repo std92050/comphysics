{
 "cells": [
  {
   "cell_type": "code",
   "execution_count": 1,
   "metadata": {},
   "outputs": [],
   "source": [
    "import numpy as np\n",
    "import matplotlib.pyplot as plt"
   ]
  },
  {
   "cell_type": "markdown",
   "metadata": {},
   "source": [
    "# Matrix Product State (MPS)\n",
    "\n",
    "The goal of this problem is to convert a general N-site wavefunction=state into MPS forms.\n",
    "Consider a general N-site state\n",
    "$$\n",
    "  |\\psi\\rangle = \\sum_{s_1, s_2, \\cdots, s_N} \\psi_{s_1, s_2, \\cdots, s_N} |s_1, s_2, \\cdots, s_N\\rangle,\n",
    "$$\n",
    "where $s_i=1,2$.\n",
    "We want to convert the coefficient $\\psi_{s_1, s_2, \\cdots, s_N}$ into one of the following MPS form. Here we use the case of $N=4$ as an example\n",
    "* $A_1 A_2 A_3 S_s B_4$\n",
    "* $A_1 S_1 B_2 B_3 B_4$\n",
    "\n",
    "More specifically,\n",
    "* $\\psi_{s_1, s_2, \\cdots, s_N} = [A_1(s_1)]_{1,2} [A_2(s_2)]_{2,4} [A_3(s_3)]_{4,2} [S_3]_{2,2} [B_4(s_4)]_{2,1}$.\n",
    "* $\\psi_{s_1, s_2, \\cdots, s_N} = [A_1(s_1)]_{1,2} [S_1]_{2,2} [B_2(s_2)]_{2,4} [B_3(s_3)]_{4,2}  [B_4(s_4)]_{2,1}$.\n",
    "\n",
    "Here $[S_i]$ are diagonal matrix. $[A_i(s_i)]$ satisfies left-canonical condition and $[B_i(s_i)]$ satisfies right-canonical condition.\n",
    "We can further decompose above MPS into the Gamma-Lambda form:\n",
    "* $GA_1 S_1 GA_2 S_2 GB_3 S_3 GB_4$\n",
    "\n",
    "where $GA_i(s_i) S_i=A_i(s_i)$ and $B_j(s_j)=S_j G_B(s_j)$.\n"
   ]
  },
  {
   "cell_type": "markdown",
   "metadata": {},
   "source": [
    "# Problem-2\n",
    "\n",
    "For a fixed N. (you can start with N=4 and see how far you can go.)\n",
    "* Generate a random state psi and normalize it.\n",
    "* Decompose psi into AA...ASB form and ASB...B form. (change A to B at first or last site.)\n",
    "* Check that you can obtain the original coefficient from the matrix product of A, S, B.\n",
    "* Decompose psi into Gamma-Lambda form. (change A to B at middle.)\n",
    "* Can you obtain obtain representation that chanes A to B any any position?"
   ]
  },
  {
   "cell_type": "code",
   "execution_count": null,
   "metadata": {},
   "outputs": [],
   "source": []
  }
 ],
 "metadata": {
  "kernelspec": {
   "display_name": "Python 3",
   "language": "python",
   "name": "python3"
  },
  "language_info": {
   "codemirror_mode": {
    "name": "ipython",
    "version": 3
   },
   "file_extension": ".py",
   "mimetype": "text/x-python",
   "name": "python",
   "nbconvert_exporter": "python",
   "pygments_lexer": "ipython3",
   "version": "3.7.3"
  }
 },
 "nbformat": 4,
 "nbformat_minor": 4
}
