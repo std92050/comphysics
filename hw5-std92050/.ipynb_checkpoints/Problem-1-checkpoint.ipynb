{
 "cells": [
  {
   "cell_type": "code",
   "execution_count": 1,
   "metadata": {},
   "outputs": [],
   "source": [
    "import numpy as np\n",
    "from scipy import integrate\n",
    "import matplotlib.pyplot as plt"
   ]
  },
  {
   "cell_type": "markdown",
   "metadata": {},
   "source": [
    "# iTEBD: tranverse-field Ising model\n",
    "\n",
    "$$\n",
    "  H \n",
    "  = \\sum_i -J \\sigma^z_i \\sigma^z_{i+1} - h \\sigma^x_i\n",
    "  = \\sum_i -J \\sigma^z_i \\sigma^z_{i+1} - \\frac{h}{2} \\left( \\sigma^x_i I_{i+1} + I_i \\sigma^x_{i+1}\\right)\n",
    "  = \\sum_i h_{i,i+1}.\n",
    "$$\n",
    "$$\n",
    "  h_{i,i+1} = -J \\sigma^z_i \\sigma^z_{i+1} -\\frac{h}{2} \\left( \\sigma^x_i I_{i+1} + I_i \\sigma^x_{i+1}\\right).\n",
    "$$\n",
    "By using direct product, one finds:\n",
    "$$ \n",
    "  \\sigma^z_i \\sigma^z_{i+1} \n",
    "  = \\left(\n",
    "    \\begin{array}{cccc}\n",
    "      1 & 0 & 0 & 0 \\\\\n",
    "      0 & -1 & 0 & 0 \\\\\n",
    "      0 & 0 & -1 & 0 \\\\\n",
    "      0 & 0 & 0 & 1\n",
    "    \\end{array}\n",
    "  \\right),\n",
    "  \\sigma^x_i I_{i+1} \n",
    "  = \\left(\n",
    "    \\begin{array}{cccc}\n",
    "      0 & 0 & 1 & 0 \\\\\n",
    "      0 & 0 & 0 & 1 \\\\\n",
    "      1 & 0 & 0 & 0 \\\\\n",
    "      0 & 1 & 0 & 0\n",
    "    \\end{array}\n",
    "  \\right),\n",
    "  I_i \\sigma^x_{i+1} \n",
    "  = \\left(\n",
    "    \\begin{array}{cccc}\n",
    "      0 & 1 & 0 & 0 \\\\\n",
    "      1 & 0 & 0 & 0 \\\\\n",
    "      0 & 0 & 0 & 1 \\\\\n",
    "      0 & 0 & 1 & 0\n",
    "    \\end{array}\n",
    "  \\right)\n",
    "$$\n",
    "and\n",
    "\n",
    "$$\n",
    "h_{i,i+1}\n",
    "  = \\left(\n",
    "    \\begin{array}{cccc}\n",
    "      -J & -\\frac{h}{2} & -\\frac{h}{2} & 0 \\\\\n",
    "      -\\frac{h}{2} & +J & 0 & -\\frac{h}{2} \\\\\n",
    "      -\\frac{h}{2}& 0 & +J & -\\frac{h}{2} \\\\\n",
    "      0 & -\\frac{h}{2} & -\\frac{h}{2} & -J\n",
    "    \\end{array}\n",
    "  \\right)\n",
    "$$\n",
    "\n",
    "The exact energy can be obtained by the following segement of code:"
   ]
  },
  {
   "cell_type": "code",
   "execution_count": 2,
   "metadata": {},
   "outputs": [
    {
     "name": "stdout",
     "output_type": "stream",
     "text": [
      "-2.127088819946744\n"
     ]
    }
   ],
   "source": [
    "# exact energy for J=1, h\n",
    "h = 2\n",
    "f = lambda k,h : -2*np.sqrt(1+h**2-2*h*np.cos(k))/np.pi/2.\n",
    "E0_exact = integrate.quad(f, 0, np.pi, args=(h,))[0]\n",
    "print(E0_exact)"
   ]
  },
  {
   "cell_type": "markdown",
   "metadata": {},
   "source": [
    "# Problem-1\n",
    "Implement iTEBD algorithm to calcualte the ground state energy. Your answer should depend on\n",
    "* J, h, chi=D=bond dimension, dt, N\n",
    "\n",
    "For J=-1.0; g=2; chi=10; d=2; delta=0.005; N=10000; You should get something like\n",
    "* E_iTEBD = -2.126544821260969\n",
    "* E_exact = -2.127088819946744"
   ]
  },
  {
   "cell_type": "code",
   "execution_count": 13,
   "metadata": {},
   "outputs": [
    {
     "name": "stdout",
     "output_type": "stream",
     "text": [
      "E_iTEBD= -2.1270925728925336 E_exact= -2.127088819946744\n"
     ]
    }
   ],
   "source": [
    "def E_0(J,g,chi,d,delta,N):\n",
    "    l=np.random.rand(2,chi)\n",
    "    G=np.random.rand(2,d,chi,chi)\n",
    "    H=np.array([[J,-g/2,-g/2,0],[-g/2,-J,0,-g/2],[-g/2,0,-J,-g/2],[0,-g/2,-g/2,J]])\n",
    "    w,v=np.linalg.eig(H)\n",
    "    U=np.reshape(np.dot(np.dot(v,np.diag(np.exp(-delta*(w)))),np.transpose(v)),(2,2,2,2))\n",
    "    for step in range(N+1):\n",
    "        A=np.mod(step,2)\n",
    "        B=np.mod(step+1,2)\n",
    "        theta=np.tensordot(np.diag(l[B]),G[A],[1,1])\n",
    "        theta=np.tensordot(theta,np.diag(l[A],0),[2,0])\n",
    "        theta=np.tensordot(theta,G[B],[2,1])\n",
    "        theta=np.tensordot(theta,np.diag(l[B],0),[3,0])\n",
    "        theta=np.tensordot(theta,U,([1,2],[0,1]))\n",
    "        theta=np.reshape(np.transpose(theta,(2,0,3,1)),(d*chi,d*chi))\n",
    "        X,Y,Z=np.linalg.svd(theta)\n",
    "        Z = Z.T\n",
    "        l[A,0:chi]=Y[0:chi]/np.sqrt(sum(Y[0:chi]**2))\n",
    "        X=np.reshape(X[0:d*chi,0:chi],(d,chi,chi))\n",
    "        G[A]=np.transpose(np.tensordot(np.diag(l[B,:]**(-1)),X,[1,1]),(1,0,2))\n",
    "        Z=np.transpose(np.reshape(Z[0:d*chi,0:chi],(d,chi,chi)),(0,2,1))\n",
    "        G[B]=np.tensordot(Z,np.diag(l[B]**(-1)),[2,0])\n",
    "    f = lambda k,g : -2*np.sqrt(1+g**2-2*g*np.cos(k))/np.pi/2.\n",
    "     \n",
    "    print(\"E_iTEBD=\",-np.log(np.sum(theta**2))/delta/2,\"E_exact=\",integrate.quad(f, 0, np.pi, args=(g,))[0])\n",
    "E_0(-1,2,10,2,0.005,100000)  "
   ]
  },
  {
   "cell_type": "code",
   "execution_count": null,
   "metadata": {},
   "outputs": [],
   "source": []
  },
  {
   "cell_type": "code",
   "execution_count": null,
   "metadata": {},
   "outputs": [],
   "source": []
  },
  {
   "cell_type": "code",
   "execution_count": null,
   "metadata": {},
   "outputs": [],
   "source": []
  },
  {
   "cell_type": "code",
   "execution_count": null,
   "metadata": {},
   "outputs": [],
   "source": []
  }
 ],
 "metadata": {
  "kernelspec": {
   "display_name": "Python 3",
   "language": "python",
   "name": "python3"
  },
  "language_info": {
   "codemirror_mode": {
    "name": "ipython",
    "version": 3
   },
   "file_extension": ".py",
   "mimetype": "text/x-python",
   "name": "python",
   "nbconvert_exporter": "python",
   "pygments_lexer": "ipython3",
   "version": "3.7.4"
  }
 },
 "nbformat": 4,
 "nbformat_minor": 4
}
