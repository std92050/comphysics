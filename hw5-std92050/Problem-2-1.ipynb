{
 "cells": [
  {
   "cell_type": "code",
   "execution_count": 1,
   "metadata": {},
   "outputs": [],
   "source": [
    "import numpy as np\n",
    "import matplotlib.pyplot as plt"
   ]
  },
  {
   "cell_type": "markdown",
   "metadata": {},
   "source": [
    "# Matrix Product State (MPS)\n",
    "\n",
    "The goal of this problem is to convert a general N-site wavefunction=state into MPS forms.\n",
    "Consider a general N-site state\n",
    "$$\n",
    "  |\\psi\\rangle = \\sum_{s_1, s_2, \\cdots, s_N} \\psi_{s_1, s_2, \\cdots, s_N} |s_1, s_2, \\cdots, s_N\\rangle,\n",
    "$$\n",
    "where $s_i=1,2$.\n",
    "We want to convert the coefficient $\\psi_{s_1, s_2, \\cdots, s_N}$ into one of the following MPS form. Here we use the case of $N=4$ as an example\n",
    "* $A_1 A_2 A_3 S_s B_4$\n",
    "* $A_1 S_1 B_2 B_3 B_4$\n",
    "\n",
    "More specifically,\n",
    "* $\\psi_{s_1, s_2, \\cdots, s_N} = [A_1(s_1)]_{1,2} [A_2(s_2)]_{2,4} [A_3(s_3)]_{4,2} [S_3]_{2,2} [B_4(s_4)]_{2,1}$.\n",
    "* $\\psi_{s_1, s_2, \\cdots, s_N} = [A_1(s_1)]_{1,2} [S_1]_{2,2} [B_2(s_2)]_{2,4} [B_3(s_3)]_{4,2}  [B_4(s_4)]_{2,1}$.\n",
    "\n",
    "Here $[S_i]$ are diagonal matrix. $[A_i(s_i)]$ satisfies left-canonical condition and $[B_i(s_i)]$ satisfies right-canonical condition.\n",
    "We can further decompose above MPS into the Gamma-Lambda form:\n",
    "* $GA_1 S_1 GA_2 S_2 GB_3 S_3 GB_4$\n",
    "\n",
    "where $GA_i(s_i) S_i=A_i(s_i)$ and $B_j(s_j)=S_j G_B(s_j)$.\n"
   ]
  },
  {
   "cell_type": "markdown",
   "metadata": {},
   "source": [
    "# Problem-2\n",
    "\n",
    "For a fixed N. (you can start with N=4 and see how far you can go.)\n",
    "* Generate a random state psi and normalize it.\n",
    "* Decompose psi into AA...ASB form and ASB...B form. (change A to B at first or last site.)\n",
    "* Check that you can obtain the original coefficient from the matrix product of A, S, B.\n",
    "* Decompose psi into Gamma-Lambda form. (change A to B at middle.)\n",
    "* Can you obtain obtain representation that chanes A to B any any position?"
   ]
  },
  {
   "cell_type": "code",
   "execution_count": 3,
   "metadata": {},
   "outputs": [
    {
     "name": "stdout",
     "output_type": "stream",
     "text": [
      "(2, 2, 2, 2)\n",
      "[[[[0.         0.02839809]\n",
      "   [0.05679618 0.08519428]]\n",
      "\n",
      "  [[0.11359237 0.14199046]\n",
      "   [0.17038855 0.19878664]]]\n",
      "\n",
      "\n",
      " [[[0.22718473 0.25558283]\n",
      "   [0.28398092 0.31237901]]\n",
      "\n",
      "  [[0.3407771  0.36917519]\n",
      "   [0.39757328 0.42597138]]]]\n",
      "0.9999999999999999\n"
     ]
    }
   ],
   "source": [
    "psi = np.arange(2**4).reshape([2, 2, 2, 2])\n",
    "#print(psi)\n",
    "norm = np.linalg.norm(psi.flatten())\n",
    "psi = psi/norm\n",
    "np.linalg.norm(psi.flatten())\n",
    "print(psi.shape)\n",
    "print(psi)\n",
    "norm = np.linalg.norm(psi.flatten())\n",
    "print(norm)"
   ]
  },
  {
   "cell_type": "markdown",
   "metadata": {},
   "source": [
    "# Singular values at each position"
   ]
  },
  {
   "cell_type": "code",
   "execution_count": 4,
   "metadata": {},
   "outputs": [
    {
     "name": "stdout",
     "output_type": "stream",
     "text": [
      "shape= (2, 8)\n",
      "singular values= [0.99288132 0.11910791]\n",
      "norm= 1.0000000000000002\n",
      "shape= (4, 4)\n",
      "singular values= [9.97907911e-01 6.46513855e-02 2.41763294e-17 5.66154335e-19]\n",
      "norm= 1.0000000000000002\n",
      "shape= (8, 2)\n",
      "singular values= [0.99956248 0.02957795]\n",
      "norm= 1.0000000000000002\n"
     ]
    }
   ],
   "source": [
    "N = 4\n",
    "for i in range(1, N):\n",
    "    psi_i = psi.reshape(2**i, 2**(N-i))\n",
    "    print(\"shape=\", psi_i.shape)\n",
    "    s = np.linalg.svd(psi_i, compute_uv=False)\n",
    "    print(\"singular values=\", s)\n",
    "    print(\"norm=\", np.sum(s**2))"
   ]
  },
  {
   "cell_type": "markdown",
   "metadata": {},
   "source": [
    "# Decomposition into MPS"
   ]
  },
  {
   "cell_type": "code",
   "execution_count": 13,
   "metadata": {},
   "outputs": [
    {
     "name": "stdout",
     "output_type": "stream",
     "text": [
      "cut = 1 | 2, 3, 4\n",
      "shape to be SVD\n",
      "(2, 8)\n",
      "shape after SVD\n",
      "(2, 2) (2,) (2, 8)\n",
      "s1\n",
      "[0.99288132 0.11910791]\n",
      "A1[0], A1[1]\n",
      "[-0.31874637 -0.94784005]\n",
      "[-0.94784005  0.31874637]\n"
     ]
    }
   ],
   "source": [
    "psi = psi.reshape(2, 8)\n",
    "print(\"cut = 1 | 2, 3, 4\")\n",
    "print(\"shape to be SVD\")\n",
    "print(psi.shape)\n",
    "\n",
    "A1, s1, vh1 = np.linalg.svd(psi, full_matrices=False)\n",
    "print(\"shape after SVD\")\n",
    "print(A1.shape,s1.shape, vh1.shape)\n",
    "print(\"s1\")\n",
    "print(s1)\n",
    "print(\"A1[0], A1[1]\")\n",
    "print(A1[0,:])\n",
    "print(A1[1,:])"
   ]
  },
  {
   "cell_type": "code",
   "execution_count": 16,
   "metadata": {},
   "outputs": [
    {
     "name": "stdout",
     "output_type": "stream",
     "text": [
      "merge s1, vh1 into R\n",
      "(2, 8)\n",
      "cut = 1, 2 | 3, 4\n",
      "shape to be SVD\n",
      "(4, 4)\n",
      "shape after SVD\n",
      "(4, 4) (4,) (4, 4)\n",
      "s2\n",
      "[9.97907911e-01 6.46513855e-02 9.65225281e-17 1.26896884e-17]\n",
      "reshape A2\n",
      "(2, 2, 4) (4,) (4, 4)\n",
      "A2[0], A2[1]\n",
      "[[-0.54529035  0.32205939  0.7613669  -0.13876825]\n",
      " [ 0.08647788  0.76906291 -0.35852688 -0.52203668]]\n",
      "[[-0.83190012 -0.16651309 -0.52898285 -0.01981744]\n",
      " [-0.05587671  0.5263966  -0.1093438   0.84132535]]\n"
     ]
    }
   ],
   "source": [
    "print(\"merge s1, vh1 into R\")\n",
    "R = np.diag(s1) @ vh1\n",
    "print(R.shape)\n",
    "\n",
    "print(\"cut = 1, 2 | 3, 4\")\n",
    "R = R.reshape(2*2, 2*2)\n",
    "print(\"shape to be SVD\")\n",
    "print(R.shape)\n",
    "\n",
    "A2, s2, vh2 = np.linalg.svd(R, full_matrices=False)\n",
    "print(\"shape after SVD\")\n",
    "print(A2.shape, s2.shape, vh2.shape)\n",
    "print(\"s2\")\n",
    "print(s2)\n",
    "\n",
    "print(\"reshape A2\")\n",
    "A2 = A2.reshape(2, 2, 4)\n",
    "print(A2.shape, s2.shape, vh2.shape)\n",
    "print(\"A2[0], A2[1]\")\n",
    "print(A2[:, 0, :])\n",
    "print(A2[:, 1, :])"
   ]
  },
  {
   "cell_type": "code",
   "execution_count": 18,
   "metadata": {},
   "outputs": [
    {
     "name": "stdout",
     "output_type": "stream",
     "text": [
      "merge s2, vh2 into R\n",
      "[9.97907911e-01 6.46513855e-02 9.65225281e-17 1.26896884e-17]\n",
      "[[ 0.42334086  0.47243254  0.52152422  0.57061589]\n",
      " [ 0.72165263  0.27714165 -0.16736932 -0.6118803 ]\n",
      " [-0.48564538  0.45874662  0.53944288 -0.51254413]\n",
      " [-0.25327568  0.6996796  -0.63953216  0.19312824]]\n",
      "(4, 4)\n",
      "cut = 1, 2 , 3 | 4\n",
      "shape to be SVD\n",
      "(8, 2)\n",
      "shape after SVD\n",
      "(8, 2) (2,) (2, 2)\n",
      "s3\n",
      "[0.99956248 0.02957795]\n",
      "reshape A3\n",
      "(4, 2, 2) (2,) (2, 2)\n",
      "A3[0], A3[1]\n",
      "[[-6.33295716e-01  1.32708441e-01]\n",
      " [-4.46398854e-02 -7.61138809e-01]\n",
      " [-1.29485292e-18  2.17964905e-15]\n",
      " [-4.41774414e-18  2.82182300e-16]]\n",
      "[[-7.71754775e-01 -9.46323875e-02]\n",
      " [ 3.65839276e-02 -6.27774557e-01]\n",
      " [ 1.65138450e-18 -2.42763429e-15]\n",
      " [ 3.63985784e-18  2.58875848e-16]]\n",
      "B4[0], B4[1]\n",
      "[[-0.6719584  -0.74058889]\n",
      " [-0.74058889  0.6719584 ]]\n",
      "[-0.6719584  -0.74058889]\n",
      "[-0.74058889  0.6719584 ]\n"
     ]
    }
   ],
   "source": [
    "print(\"merge s2, vh2 into R\")\n",
    "print(s2)\n",
    "print(vh2)\n",
    "R = np.diag(s2) @ vh2\n",
    "print(R.shape)\n",
    "\n",
    "print(\"cut = 1, 2 , 3 | 4\")\n",
    "R = R.reshape(2*2*2, 2)\n",
    "print(\"shape to be SVD\")\n",
    "print(R.shape)\n",
    "\n",
    "A3, s3, B4 = np.linalg.svd(R, full_matrices=False)\n",
    "print(\"shape after SVD\")\n",
    "print(A3.shape, s3.shape, B4.shape)\n",
    "print(\"s3\")\n",
    "print(s3)\n",
    "\n",
    "print(\"reshape A3\")\n",
    "A3 = A3.reshape(4, 2, 2)\n",
    "print(A3.shape, s3.shape, B4.shape)\n",
    "print(\"A3[0], A3[1]\")\n",
    "print(A3[:, 0, :])\n",
    "print(A3[:, 1, :])\n",
    "\n",
    "print(\"B4[0], B4[1]\")\n",
    "print(B4)\n",
    "print(B4[:, 0])\n",
    "print(B4[:, 1])"
   ]
  },
  {
   "cell_type": "markdown",
   "metadata": {},
   "source": [
    "# original coefficient from the matrix product of A, S, B"
   ]
  },
  {
   "cell_type": "code",
   "execution_count": 24,
   "metadata": {},
   "outputs": [
    {
     "name": "stdout",
     "output_type": "stream",
     "text": [
      "[[5.55111512e-17 2.83980917e-02 5.67961834e-02 8.51942751e-02\n",
      "  1.13592367e-01 1.41990459e-01 1.70388550e-01 1.98786642e-01]\n",
      " [2.27184734e-01 2.55582825e-01 2.83980917e-01 3.12379009e-01\n",
      "  3.40777101e-01 3.69175192e-01 3.97573284e-01 4.25971376e-01]]\n",
      "0.25558282541117916\n",
      "[[4.16333634e-17 2.83980917e-02 5.67961834e-02 8.51942751e-02\n",
      "  1.13592367e-01 1.41990459e-01 1.70388550e-01 1.98786642e-01]\n",
      " [2.27184734e-01 2.55582825e-01 2.83980917e-01 3.12379009e-01\n",
      "  3.40777101e-01 3.69175192e-01 3.97573284e-01 4.25971376e-01]]\n",
      "0.2555828254111792\n"
     ]
    }
   ],
   "source": [
    "c = A1 @ np.diag(s1) @ vh1\n",
    "print(c)\n",
    "print(np.trace(c))\n",
    "a = np.diag(s1) @ vh1\n",
    "b = A1 @ a\n",
    "print(b)\n",
    "print(np.trace(b))"
   ]
  },
  {
   "cell_type": "code",
   "execution_count": null,
   "metadata": {},
   "outputs": [],
   "source": []
  }
 ],
 "metadata": {
  "kernelspec": {
   "display_name": "Python 3",
   "language": "python",
   "name": "python3"
  },
  "language_info": {
   "codemirror_mode": {
    "name": "ipython",
    "version": 3
   },
   "file_extension": ".py",
   "mimetype": "text/x-python",
   "name": "python",
   "nbconvert_exporter": "python",
   "pygments_lexer": "ipython3",
   "version": "3.7.4"
  }
 },
 "nbformat": 4,
 "nbformat_minor": 4
}
