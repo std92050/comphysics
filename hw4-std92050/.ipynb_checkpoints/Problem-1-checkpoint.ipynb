{
 "cells": [
  {
   "cell_type": "code",
   "execution_count": 134,
   "metadata": {},
   "outputs": [],
   "source": [
    "import numpy as np\n",
    "import matplotlib.pyplot as plt\n",
    "from sympy import *"
   ]
  },
  {
   "cell_type": "code",
   "execution_count": 135,
   "metadata": {},
   "outputs": [],
   "source": [
    "# parameters\n",
    "J = 1\n",
    "kB = 1\n",
    "Tc = 2/np.log(1+np.sqrt(2))\n",
    "Kc = np.log(1+np.sqrt(2))/2"
   ]
  },
  {
   "cell_type": "markdown",
   "metadata": {},
   "source": [
    "## Exact solution for 2x2 lattice"
   ]
  },
  {
   "cell_type": "code",
   "execution_count": 136,
   "metadata": {},
   "outputs": [],
   "source": [
    "#  exact solution for 2 by 2 lattice\n",
    "def exact(beta):\n",
    "    Z = 2*np.exp(8*beta)+12+2*np.exp(-8*beta)\n",
    "    F = -np.log(Z)/beta\n",
    "    E = -(2*8*np.exp(8*beta)+2*(-8)*np.exp(-8*beta))/Z\n",
    "    E_sqr = (2*64*np.exp(8*beta) +2*64*np.exp(-8*beta))/Z\n",
    "    C = (E_sqr-E*E)*(beta*beta)\n",
    "    M_abs = (2*4*np.exp(8*beta)+8*2)/Z\n",
    "    M_sqr = (2*16*np.exp(8*beta)+8*4)/Z\n",
    "    chi_p = (M_sqr-M_abs*M_abs)*beta\n",
    "    \n",
    "    return Z, F, E, E_sqr, C, M_abs, M_sqr, chi_p\n"
   ]
  },
  {
   "cell_type": "markdown",
   "metadata": {},
   "source": [
    "## Bare tensors"
   ]
  },
  {
   "cell_type": "code",
   "execution_count": 137,
   "metadata": {},
   "outputs": [],
   "source": [
    "#==================================================================#\n",
    "##\n",
    "##          3             3       \n",
    "##     2--(TO)--0     2--(T1)--0\n",
    "##          1              1  \n",
    "##\n",
    "##          3             3 \n",
    "##     2--(T3)--0     2--(T2)--0\n",
    "##          1             1 \n",
    "#==================================================================#"
   ]
  },
  {
   "cell_type": "markdown",
   "metadata": {},
   "source": [
    "## Contraction on a 2x2 lattice\n",
    "\n",
    "Construct bare tensors $T$ and $T_z$ for the 2D Ising model.\n",
    "\n",
    "Perform exact contract on a 2x2 lattice to obtain\n",
    "* Partition function $Z$.\n",
    "* Energy per bond. (via <S(0,0) S(0,1)>).\n",
    "* Correlation at maximal distance <S(0,0> S(1,1)>.\n",
    "\n",
    "Compare to the exact results on a 2x2 lattice."
   ]
  },
  {
   "cell_type": "code",
   "execution_count": 138,
   "metadata": {},
   "outputs": [
    {
     "data": {
      "text/plain": [
       "array([[[[4.76219569, 0.        ],\n",
       "         [0.        , 3.62686041]],\n",
       "\n",
       "        [[0.        , 3.62686041],\n",
       "         [3.62686041, 0.        ]]],\n",
       "\n",
       "\n",
       "       [[[0.        , 3.62686041],\n",
       "         [3.62686041, 0.        ]],\n",
       "\n",
       "        [[3.62686041, 0.        ],\n",
       "         [0.        , 2.76219569]]]])"
      ]
     },
     "execution_count": 138,
     "metadata": {},
     "output_type": "execute_result"
    }
   ],
   "source": [
    "#照paper上的方法 把transition tensor造出來(一個rank 4 tensor)\n",
    "def W(T):\n",
    "    return np.array([[np.cosh(1/T)**(1/2),np.sinh(1/T)**(1/2)]\n",
    "                    ,[np.cosh(1/T)**(1/2),-(np.sinh(1/T))**(1/2)]])\n",
    "def tran_matrix(T):\n",
    "    a=np.zeros([2,2,2,2])\n",
    "    for i in range(2):\n",
    "        for j in range(2):\n",
    "            for k in range(2):\n",
    "                for l in range(2):\n",
    "                    for n in range(2):\n",
    "                        a[i,j,k,l]+=W(T)[n,i]*W(T)[n,j]*W(T)[n,k]*W(T)[n,l]\n",
    "    return a\n",
    "\n",
    "tran_matrix(1)"
   ]
  },
  {
   "cell_type": "code",
   "execution_count": 139,
   "metadata": {},
   "outputs": [
    {
     "data": {
      "text/latex": [
       "$\\displaystyle a_{0000} b_{0000} + a_{1000} b_{0010}$"
      ],
      "text/plain": [
       "a0000*b0000 + a1000*b0010"
      ]
     },
     "execution_count": 139,
     "metadata": {},
     "output_type": "execute_result"
    }
   ],
   "source": [
    "#define 兩個 rank 4 tensor  a 和 b component 都是符號\n",
    "def tensor():\n",
    "    a=np.full([2,2,2,2],None)\n",
    "    for i in range(2):\n",
    "        for j in range(2):\n",
    "            for k in range(2):\n",
    "                for l in range(2):\n",
    "                    for n in range(2):\n",
    "                        x=Symbol(\"a\"+str(i)+str(j)+str(k)+str(l))\n",
    "                        a[i,j,k,l]=x\n",
    "    return a\n",
    "def tensor2():\n",
    "    a=np.full([2,2,2,2],None)\n",
    "    for i in range(2):\n",
    "        for j in range(2):\n",
    "            for k in range(2):\n",
    "                for l in range(2):\n",
    "                    for n in range(2):\n",
    "                        x=Symbol(\"b\"+str(i)+str(j)+str(k)+str(l))\n",
    "                        a[i,j,k,l]=x\n",
    "    return a\n",
    "\n",
    "a=tensor()\n",
    "b=tensor2()\n",
    "# 用a的第一個index和 b的第三個index 做contraction (所以axis就是設[0,2])\n",
    "A=np.tensordot(a,b,[0,2])\n",
    "\n",
    "\n",
    "A[0,0,0,0,0,0] \n",
    "\n",
    "\n"
   ]
  },
  {
   "cell_type": "code",
   "execution_count": 140,
   "metadata": {},
   "outputs": [
    {
     "data": {
      "text/latex": [
       "$\\displaystyle a_{0000} b_{0100} + a_{1000} b_{0110}$"
      ],
      "text/plain": [
       "a0000*b0100 + a1000*b0110"
      ]
     },
     "execution_count": 140,
     "metadata": {},
     "output_type": "execute_result"
    }
   ],
   "source": [
    "A[0,0,0,0,1,0]\n",
    "#可以看出 新的tensor A 的第四個index 對應到 b的第2個index"
   ]
  },
  {
   "cell_type": "markdown",
   "metadata": {},
   "source": [
    "<img src=\"tensor.png\" style=\"width:400px;height:300px\"/>        "
   ]
  },
  {
   "cell_type": "code",
   "execution_count": 141,
   "metadata": {},
   "outputs": [
    {
     "data": {
      "text/plain": [
       "5971.989236639011"
      ]
     },
     "execution_count": 141,
     "metadata": {},
     "output_type": "execute_result"
    }
   ],
   "source": [
    "#計算partition function\n",
    "def par(T):\n",
    "    p=0\n",
    "    a=tran_matrix(T)\n",
    "    #上面兩個 下面兩個分別先做contraction 得到兩個rank 6 tensor\n",
    "    b=np.tensordot(a,a,[0,2])\n",
    "    c=np.tensordot(a,a,[0,2])\n",
    "    \n",
    "    #上下兩個做contraction\n",
    "    d=np.tensordot(b,c,[(0,4),(2,5)])\n",
    "    \n",
    "    #做trace得出partition function\n",
    "    for i in range(2):\n",
    "        for j in range(2):\n",
    "            for k in range(2):\n",
    "                for l in range(2):\n",
    "                    p+=d[i,j,k,i,l,k,j,l]\n",
    "                    \n",
    "        \n",
    "  \n",
    "    return p \n",
    "par(1)"
   ]
  },
  {
   "cell_type": "code",
   "execution_count": 142,
   "metadata": {},
   "outputs": [
    {
     "data": {
      "text/plain": [
       "array([[[[0.        , 4.1559378 ],\n",
       "         [4.1559378 , 0.        ]],\n",
       "\n",
       "        [[4.1559378 , 0.        ],\n",
       "         [0.        , 3.16513794]]],\n",
       "\n",
       "\n",
       "       [[[4.1559378 , 0.        ],\n",
       "         [0.        , 3.16513794]],\n",
       "\n",
       "        [[0.        , 3.16513794],\n",
       "         [3.16513794, 0.        ]]]])"
      ]
     },
     "execution_count": 142,
     "metadata": {},
     "output_type": "execute_result"
    }
   ],
   "source": [
    "#compute impurity tensor Tz\n",
    "def imp_tensor(T):\n",
    "    a=np.zeros([2,2,2,2])\n",
    "    for i in range(2):\n",
    "        for j in range(2):\n",
    "            for k in range(2):\n",
    "                for l in range(2):\n",
    "                    if i==j==k==l==0:\n",
    "                        a[i,j,k,l]+=1 \n",
    "                    if i==j==k==l==1:\n",
    "                        a[i,j,k,l]+=-1 \n",
    "    a1=np.tensordot(a,W(T),[0,0])\n",
    "    a2=np.tensordot(a1,W(T),[0,0])\n",
    "    a3=np.tensordot(a2,W(T),[0,0])\n",
    "    a4=np.tensordot(a3,W(T),[0,0])\n",
    "    return a4\n",
    "imp_tensor(1)"
   ]
  },
  {
   "cell_type": "code",
   "execution_count": 143,
   "metadata": {},
   "outputs": [
    {
     "name": "stdout",
     "output_type": "stream",
     "text": [
      "0.0 0.0 0.0\n"
     ]
    }
   ],
   "source": [
    "#check <Sij>=0\n",
    "def test(T):\n",
    "    u=0\n",
    "    S=tran_matrix(T)\n",
    "    Tz=imp_tensor(T)\n",
    "    S1=np.tensordot(S,S,[0,2])\n",
    "    TzS=np.tensordot(Tz,S,[0,2])\n",
    "    U=np.tensordot(TzS,S1,[(0,4),(2,5)])\n",
    "    for i in range(2):\n",
    "        for j in range(2):\n",
    "            for k in range(2):\n",
    "                for l in range(2):\n",
    "                    u+=U[i,j,k,i,l,k,j,l]\n",
    "    return u\n",
    "print(test(27),test(1),test(0.8783))"
   ]
  },
  {
   "cell_type": "code",
   "execution_count": 147,
   "metadata": {},
   "outputs": [
    {
     "data": {
      "text/plain": [
       "-0.9241451378620367"
      ]
     },
     "execution_count": 147,
     "metadata": {},
     "output_type": "execute_result"
    }
   ],
   "source": [
    "def avg_bond_U(T):\n",
    "    u=0\n",
    "    S=tran_matrix(T)\n",
    "    Tz=imp_tensor(T)\n",
    "    S1=np.tensordot(S,S,[0,2])\n",
    "    Tzz=np.tensordot(Tz,Tz,[0,2])\n",
    "    U=np.tensordot(Tzz,S1,[(0,4),(2,5)])\n",
    "    for i in range(2):\n",
    "        for j in range(2):\n",
    "            for k in range(2):\n",
    "                for l in range(2):\n",
    "                    u+=U[i,j,k,i,l,k,j,l]\n",
    "    return -u/par(T) \n",
    "avg_bond_U(2)\n",
    "\"     I     I       \"\n",
    "\"  ---Tz----Tz---   \"\n",
    "\"     I     I       \"\n",
    "\"  ---S-----S----   \"\n",
    "\"     I     I        \""
   ]
  },
  {
   "cell_type": "code",
   "execution_count": 149,
   "metadata": {},
   "outputs": [
    {
     "data": {
      "text/plain": [
       "0.08554703518316994"
      ]
     },
     "execution_count": 149,
     "metadata": {},
     "output_type": "execute_result"
    }
   ],
   "source": [
    "#compute correlation\n",
    "def cor(T):\n",
    "    u=0\n",
    "    S=tran_matrix(T)\n",
    "    Tz=imp_tensor(T)\n",
    "    TS=np.tensordot(Tz,S,[0,2])\n",
    "    ST=np.tensordot(S,Tz,[0,2])\n",
    "    U=np.tensordot(TS,ST,[(0,4),(2,5)])\n",
    "    for i in range(2):\n",
    "        for j in range(2):\n",
    "            for k in range(2):\n",
    "                for l in range(2):\n",
    "                    u+=U[i,j,k,i,l,k,j,l]\n",
    "    return u/par(T) \n",
    "cor(15)\n",
    "\"     I     I        \"\n",
    "\"  ---Tz----S---   \"\n",
    "\"     I     I       \"\n",
    "\"  ---S-----Tz---   \"\n",
    "\"     I     I\""
   ]
  },
  {
   "cell_type": "code",
   "execution_count": 150,
   "metadata": {},
   "outputs": [
    {
     "data": {
      "text/plain": [
       "[<matplotlib.lines.Line2D at 0xaec5e48>,\n",
       " <matplotlib.lines.Line2D at 0xaecde88>]"
      ]
     },
     "execution_count": 150,
     "metadata": {},
     "output_type": "execute_result"
    },
    {
     "data": {
      "image/png": "[encoded data removed]",
      "text/plain": [
       "<Figure size 432x288 with 1 Axes>"
      ]
     },
     "metadata": {
      "needs_background": "light"
     },
     "output_type": "display_data"
    }
   ],
   "source": [
    "#compare direct calculation of partition (a2)  with tensor calculation(a1)\n",
    "a1=[]\n",
    "a2=[]\n",
    "x=[]\n",
    "for i in range(1,1000):\n",
    "    a1.append(np.log(par(i/10)))\n",
    "    a2.append(np.log(exact(10/i)[0]))\n",
    "    x.append(i/10)\n",
    "plt.xlim(0,10)\n",
    "plt.ylim(0,50)\n",
    "plt.ylabel('lnZ')\n",
    "plt.xlabel('T')\n",
    "plt.plot(x,a1,x,a2,'go')\n",
    "\n",
    "    "
   ]
  },
  {
   "cell_type": "code",
   "execution_count": 151,
   "metadata": {},
   "outputs": [
    {
     "data": {
      "text/plain": [
       "[<matplotlib.lines.Line2D at 0xaf25308>,\n",
       " <matplotlib.lines.Line2D at 0xaeda048>]"
      ]
     },
     "execution_count": 151,
     "metadata": {},
     "output_type": "execute_result"
    },
    {
     "data": {
      "image/png": "[encoded data removed]",
      "text/plain": [
       "<Figure size 432x288 with 1 Axes>"
      ]
     },
     "metadata": {
      "needs_background": "light"
     },
     "output_type": "display_data"
    }
   ],
   "source": [
    "##compare direct calculation of energy (u2)  with tensor calculation(u)\n",
    "u=[]\n",
    "u2=[]\n",
    "x=[]\n",
    "for i in range(1000):\n",
    "    x.append(i/10+1)\n",
    "    u2.append(exact(1/(i/10+1))[2]/8)\n",
    "    u.append(avg_bond_U(i/10+1))\n",
    "plt.xlabel(\"T\")\n",
    "plt.ylabel(\"energy per bond\")\n",
    "plt.plot(x,u,\"bo\",x,u2,\"g\")"
   ]
  },
  {
   "cell_type": "code",
   "execution_count": 152,
   "metadata": {},
   "outputs": [
    {
     "data": {
      "text/plain": [
       "[<matplotlib.lines.Line2D at 0xaf66d08>,\n",
       " <matplotlib.lines.Line2D at 0xaf8bf08>]"
      ]
     },
     "execution_count": 152,
     "metadata": {},
     "output_type": "execute_result"
    },
    {
     "data": {
      "image/png": "[encoded data removed]",
      "text/plain": [
       "<Figure size 432x288 with 1 Axes>"
      ]
     },
     "metadata": {
      "needs_background": "light"
     },
     "output_type": "display_data"
    }
   ],
   "source": [
    "#compare direct calculation of correlation (c2)  with tensor calculation(c)\n",
    "c=[]\n",
    "c2=[]\n",
    "x=[]\n",
    "for i in range(1000):\n",
    "    x.append(i/10+1)\n",
    "    c2.append(exact(1/(i/10+1))[4])\n",
    "    c.append(cor(i/10+1))\n",
    "plt.xlabel(\"T\")\n",
    "plt.ylabel(\"correlation\")\n",
    "plt.xlim(0,10)\n",
    "plt.plot(x,c,x,c2,\"go\")\n",
    "#不知為何不吻合"
   ]
  },
  {
   "cell_type": "code",
   "execution_count": null,
   "metadata": {},
   "outputs": [],
   "source": []
  }
 ],
 "metadata": {
  "kernelspec": {
   "display_name": "Python 3",
   "language": "python",
   "name": "python3"
  },
  "language_info": {
   "codemirror_mode": {
    "name": "ipython",
    "version": 3
   },
   "file_extension": ".py",
   "mimetype": "text/x-python",
   "name": "python",
   "nbconvert_exporter": "python",
   "pygments_lexer": "ipython3",
   "version": "3.7.4"
  }
 },
 "nbformat": 4,
 "nbformat_minor": 4
}
